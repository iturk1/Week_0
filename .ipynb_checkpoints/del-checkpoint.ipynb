{
 "cells": [
  {
   "cell_type": "code",
   "execution_count": null,
   "id": "c85e2223-b6dd-4f0c-a823-8b5ff7afc14a",
   "metadata": {},
   "outputs": [],
   "source": [
    "Delete it"
   ]
  }
 ],
 "metadata": {
  "kernelspec": {
   "display_name": "Python 3",
   "language": "python",
   "name": "python3"
  },
  "language_info": {
   "codemirror_mode": {
    "name": "ipython",
    "version": 3
   },
   "file_extension": ".py",
   "mimetype": "text/x-python",
   "name": "python",
   "nbconvert_exporter": "python",
   "pygments_lexer": "ipython3",
   "version": "3.8.8"
  }
 },
 "nbformat": 4,
 "nbformat_minor": 5
}
